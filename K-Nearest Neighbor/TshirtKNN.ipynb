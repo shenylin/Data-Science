{
 "cells": [
  {
   "cell_type": "code",
   "execution_count": 3,
   "id": "eab25d4e",
   "metadata": {},
   "outputs": [],
   "source": [
    "# -*- coding: utf-8 -*-\n",
    "\"\"\"\n",
    "Created on Tue Feb 22 11:22:54 2022\n",
    "@author: Renee\n",
    "\"\"\"\n",
    "import pandas as pd\n",
    "from sklearn.preprocessing import MinMaxScaler\n",
    "from sklearn.neighbors import KNeighborsClassifier\n",
    "from sklearn import metrics\n",
    "import seaborn as sn\n",
    "import matplotlib.pyplot as plt\n",
    "from sklearn.metrics import classification_report"
   ]
  },
  {
   "cell_type": "code",
   "execution_count": 4,
   "id": "a7560ce0",
   "metadata": {
    "scrolled": true
   },
   "outputs": [
    {
     "name": "stdout",
     "output_type": "stream",
     "text": [
      "    Height  Weight T Shirt Size\n",
      "0      158      58            M\n",
      "1      158      59            M\n",
      "2      158      63            M\n",
      "3      160      59            M\n",
      "4      160      60            M\n",
      "5      163      60            M\n",
      "6      163      61            M\n",
      "7      160      64            L\n",
      "8      163      64            L\n",
      "9      165      61            L\n",
      "10     165      62            L\n",
      "11     165      65            L\n",
      "12     168      62            L\n",
      "13     168      63            L\n",
      "14     168      66            L\n",
      "15     170      63            L\n",
      "16     170      64            L\n",
      "17     170      68            L\n"
     ]
    }
   ],
   "source": [
    "#load dataset\n",
    "Tshirt = pd.read_csv('/Users/chenghsuanlin/Downloads/Tshirt.csv')\n",
    "#Tshirt = pd.read_csv(r'C:\\Users\\Renee\\Desktop\\Tshirt.csv')\n",
    "print(Tshirt)"
   ]
  },
  {
   "cell_type": "code",
   "execution_count": 3,
   "id": "251a5639",
   "metadata": {
    "scrolled": true
   },
   "outputs": [
    {
     "data": {
      "image/png": "[encoded data removed]",
      "text/plain": [
       "<Figure size 432x288 with 1 Axes>"
      ]
     },
     "metadata": {
      "needs_background": "light"
     },
     "output_type": "display_data"
    }
   ],
   "source": [
    "#Scatter Plot\n",
    "plt.scatter(Tshirt['Height'], Tshirt['Weight'])\n",
    "plt.xlabel('Height')\n",
    "plt.ylabel('Weight')\n",
    "plt.show()"
   ]
  },
  {
   "cell_type": "code",
   "execution_count": 5,
   "id": "7c7d8fad",
   "metadata": {},
   "outputs": [],
   "source": [
    "#Normalize X\n",
    "#min_max_scaler = MinMaxScaler()\n",
    "#[['Height', 'Weight']] = min_max_scaler.fit_transform(Tshirt[['Height', 'Weight']])\n",
    "#(Tshirt)\n",
    "#Scatter Plot Normalized X\n",
    "#plt.scatter(Tshirt['Height'], Tshirt['Weight'])\n",
    "#plt.xlabel('Height')\n",
    "#plt.ylabel('Weight')\n",
    "#plt.show()\n",
    "#Set Features and Target Variable\n",
    "X = Tshirt[['Height', 'Weight']]\n",
    "Y = Tshirt['T Shirt Size']"
   ]
  },
  {
   "cell_type": "code",
   "execution_count": 5,
   "id": "427570f9",
   "metadata": {},
   "outputs": [
    {
     "data": {
      "text/html": [
       "<div>\n",
       "<style scoped>\n",
       "    .dataframe tbody tr th:only-of-type {\n",
       "        vertical-align: middle;\n",
       "    }\n",
       "\n",
       "    .dataframe tbody tr th {\n",
       "        vertical-align: top;\n",
       "    }\n",
       "\n",
       "    .dataframe thead th {\n",
       "        text-align: right;\n",
       "    }\n",
       "</style>\n",
       "<table border=\"1\" class=\"dataframe\">\n",
       "  <thead>\n",
       "    <tr style=\"text-align: right;\">\n",
       "      <th></th>\n",
       "      <th>Height</th>\n",
       "      <th>Weight</th>\n",
       "      <th>T Shirt Size</th>\n",
       "    </tr>\n",
       "  </thead>\n",
       "  <tbody>\n",
       "    <tr>\n",
       "      <th>0</th>\n",
       "      <td>158</td>\n",
       "      <td>58</td>\n",
       "      <td>M</td>\n",
       "    </tr>\n",
       "    <tr>\n",
       "      <th>1</th>\n",
       "      <td>158</td>\n",
       "      <td>59</td>\n",
       "      <td>M</td>\n",
       "    </tr>\n",
       "    <tr>\n",
       "      <th>2</th>\n",
       "      <td>158</td>\n",
       "      <td>63</td>\n",
       "      <td>M</td>\n",
       "    </tr>\n",
       "    <tr>\n",
       "      <th>3</th>\n",
       "      <td>160</td>\n",
       "      <td>59</td>\n",
       "      <td>M</td>\n",
       "    </tr>\n",
       "    <tr>\n",
       "      <th>4</th>\n",
       "      <td>160</td>\n",
       "      <td>60</td>\n",
       "      <td>M</td>\n",
       "    </tr>\n",
       "    <tr>\n",
       "      <th>5</th>\n",
       "      <td>163</td>\n",
       "      <td>60</td>\n",
       "      <td>M</td>\n",
       "    </tr>\n",
       "    <tr>\n",
       "      <th>6</th>\n",
       "      <td>163</td>\n",
       "      <td>61</td>\n",
       "      <td>M</td>\n",
       "    </tr>\n",
       "    <tr>\n",
       "      <th>7</th>\n",
       "      <td>160</td>\n",
       "      <td>64</td>\n",
       "      <td>L</td>\n",
       "    </tr>\n",
       "    <tr>\n",
       "      <th>8</th>\n",
       "      <td>163</td>\n",
       "      <td>64</td>\n",
       "      <td>L</td>\n",
       "    </tr>\n",
       "    <tr>\n",
       "      <th>9</th>\n",
       "      <td>165</td>\n",
       "      <td>61</td>\n",
       "      <td>L</td>\n",
       "    </tr>\n",
       "    <tr>\n",
       "      <th>10</th>\n",
       "      <td>165</td>\n",
       "      <td>62</td>\n",
       "      <td>L</td>\n",
       "    </tr>\n",
       "    <tr>\n",
       "      <th>11</th>\n",
       "      <td>165</td>\n",
       "      <td>65</td>\n",
       "      <td>L</td>\n",
       "    </tr>\n",
       "    <tr>\n",
       "      <th>12</th>\n",
       "      <td>168</td>\n",
       "      <td>62</td>\n",
       "      <td>L</td>\n",
       "    </tr>\n",
       "    <tr>\n",
       "      <th>13</th>\n",
       "      <td>168</td>\n",
       "      <td>63</td>\n",
       "      <td>L</td>\n",
       "    </tr>\n",
       "    <tr>\n",
       "      <th>14</th>\n",
       "      <td>168</td>\n",
       "      <td>66</td>\n",
       "      <td>L</td>\n",
       "    </tr>\n",
       "    <tr>\n",
       "      <th>15</th>\n",
       "      <td>170</td>\n",
       "      <td>63</td>\n",
       "      <td>L</td>\n",
       "    </tr>\n",
       "    <tr>\n",
       "      <th>16</th>\n",
       "      <td>170</td>\n",
       "      <td>64</td>\n",
       "      <td>L</td>\n",
       "    </tr>\n",
       "    <tr>\n",
       "      <th>17</th>\n",
       "      <td>170</td>\n",
       "      <td>68</td>\n",
       "      <td>L</td>\n",
       "    </tr>\n",
       "  </tbody>\n",
       "</table>\n",
       "</div>"
      ],
      "text/plain": [
       "    Height  Weight T Shirt Size\n",
       "0      158      58            M\n",
       "1      158      59            M\n",
       "2      158      63            M\n",
       "3      160      59            M\n",
       "4      160      60            M\n",
       "5      163      60            M\n",
       "6      163      61            M\n",
       "7      160      64            L\n",
       "8      163      64            L\n",
       "9      165      61            L\n",
       "10     165      62            L\n",
       "11     165      65            L\n",
       "12     168      62            L\n",
       "13     168      63            L\n",
       "14     168      66            L\n",
       "15     170      63            L\n",
       "16     170      64            L\n",
       "17     170      68            L"
      ]
     },
     "execution_count": 5,
     "metadata": {},
     "output_type": "execute_result"
    }
   ],
   "source": [
    "Tshirt"
   ]
  },
  {
   "cell_type": "code",
   "execution_count": 7,
   "id": "fe4f00bf",
   "metadata": {},
   "outputs": [
    {
     "name": "stdout",
     "output_type": "stream",
     "text": [
      "Accuracy:  1.0\n"
     ]
    },
    {
     "data": {
      "image/png": "[encoded data removed]",
      "text/plain": [
       "<Figure size 432x288 with 2 Axes>"
      ]
     },
     "metadata": {
      "needs_background": "light"
     },
     "output_type": "display_data"
    },
    {
     "name": "stdout",
     "output_type": "stream",
     "text": [
      "['M' 'M' 'M' 'M' 'M' 'M' 'M' 'L' 'L' 'L' 'L' 'L' 'L' 'L' 'L' 'L' 'L' 'L']\n",
      "Predicted Result:  ['M']\n",
      "              precision    recall  f1-score   support\n",
      "\n",
      "           L       1.00      1.00      1.00        11\n",
      "           M       1.00      1.00      1.00         7\n",
      "\n",
      "    accuracy                           1.00        18\n",
      "   macro avg       1.00      1.00      1.00        18\n",
      "weighted avg       1.00      1.00      1.00        18\n",
      "\n"
     ]
    }
   ],
   "source": [
    "#create a classifier\n",
    "knn = KNeighborsClassifier(n_neighbors = 3)\n",
    "knn.fit(X, Y)\n",
    "Y_pred=knn.predict(X)\n",
    "confusion_matrix = pd.crosstab(Y, Y_pred, rownames=['Actual'], \n",
    "colnames=['Predicted'])\n",
    "sn.heatmap(confusion_matrix, annot=True)\n",
    "print('Accuracy: ',metrics.accuracy_score(Y, Y_pred))\n",
    "plt.show()\n",
    "#print (X)\n",
    "print (Y_pred)\n",
    "prediction = knn.predict([[161,61]]) \n",
    "print ('Predicted Result: ', prediction)\n",
    "print(classification_report(Y, Y_pred))"
   ]
  },
  {
   "cell_type": "code",
   "execution_count": 8,
   "id": "200b4552",
   "metadata": {
    "scrolled": true
   },
   "outputs": [
    {
     "name": "stdout",
     "output_type": "stream",
     "text": [
      "Accuracy:  0.8888888888888888\n"
     ]
    },
    {
     "data": {
      "image/png": "[encoded data removed]",
      "text/plain": [
       "<Figure size 432x288 with 2 Axes>"
      ]
     },
     "metadata": {
      "needs_background": "light"
     },
     "output_type": "display_data"
    },
    {
     "name": "stdout",
     "output_type": "stream",
     "text": [
      "['M' 'M' 'M' 'M' 'M' 'L' 'L' 'L' 'L' 'L' 'L' 'L' 'L' 'L' 'L' 'L' 'L' 'L']\n",
      "Predicted Result:  ['M']\n",
      "              precision    recall  f1-score   support\n",
      "\n",
      "           L       0.85      1.00      0.92        11\n",
      "           M       1.00      0.71      0.83         7\n",
      "\n",
      "    accuracy                           0.89        18\n",
      "   macro avg       0.92      0.86      0.88        18\n",
      "weighted avg       0.91      0.89      0.88        18\n",
      "\n"
     ]
    }
   ],
   "source": [
    "#create a classifier\n",
    "knn = KNeighborsClassifier(n_neighbors = 4)\n",
    "knn.fit(X, Y)\n",
    "Y_pred=knn.predict(X)\n",
    "confusion_matrix = pd.crosstab(Y, Y_pred, rownames=['Actual'], \n",
    "colnames=['Predicted'])\n",
    "sn.heatmap(confusion_matrix, annot=True)\n",
    "print('Accuracy: ',metrics.accuracy_score(Y, Y_pred))\n",
    "plt.show()\n",
    "#print (X)\n",
    "print (Y_pred)\n",
    "prediction = knn.predict([[161,61]]) \n",
    "print ('Predicted Result: ', prediction)\n",
    "print(classification_report(Y, Y_pred))"
   ]
  },
  {
   "cell_type": "code",
   "execution_count": 10,
   "id": "259f24ef",
   "metadata": {},
   "outputs": [
    {
     "name": "stdout",
     "output_type": "stream",
     "text": [
      "Accuracy:  0.8888888888888888\n"
     ]
    },
    {
     "data": {
      "image/png": "[encoded data removed]",
      "text/plain": [
       "<Figure size 432x288 with 2 Axes>"
      ]
     },
     "metadata": {
      "needs_background": "light"
     },
     "output_type": "display_data"
    },
    {
     "name": "stdout",
     "output_type": "stream",
     "text": [
      "['M' 'M' 'M' 'M' 'M' 'M' 'L' 'M' 'L' 'L' 'L' 'L' 'L' 'L' 'L' 'L' 'L' 'L']\n",
      "Predicted Result:  ['M']\n",
      "              precision    recall  f1-score   support\n",
      "\n",
      "           L       0.91      0.91      0.91        11\n",
      "           M       0.86      0.86      0.86         7\n",
      "\n",
      "    accuracy                           0.89        18\n",
      "   macro avg       0.88      0.88      0.88        18\n",
      "weighted avg       0.89      0.89      0.89        18\n",
      "\n"
     ]
    }
   ],
   "source": [
    "#create a classifier\n",
    "knn = KNeighborsClassifier(n_neighbors = 5)\n",
    "knn.fit(X, Y)\n",
    "Y_pred=knn.predict(X)\n",
    "confusion_matrix = pd.crosstab(Y, Y_pred, rownames=['Actual'], \n",
    "colnames=['Predicted'])\n",
    "sn.heatmap(confusion_matrix, annot=True)\n",
    "print('Accuracy: ',metrics.accuracy_score(Y, Y_pred))\n",
    "plt.show()\n",
    "#print (X)\n",
    "print (Y_pred)\n",
    "prediction = knn.predict([[161,61]]) \n",
    "print ('Predicted Result: ', prediction)\n",
    "print(classification_report(Y, Y_pred))"
   ]
  },
  {
   "cell_type": "code",
   "execution_count": 9,
   "id": "01f8b766",
   "metadata": {},
   "outputs": [
    {
     "name": "stdout",
     "output_type": "stream",
     "text": [
      "Accuracy:  0.9444444444444444\n"
     ]
    },
    {
     "data": {
      "image/png": "[encoded data removed]",
      "text/plain": [
       "<Figure size 432x288 with 2 Axes>"
      ]
     },
     "metadata": {
      "needs_background": "light"
     },
     "output_type": "display_data"
    },
    {
     "name": "stdout",
     "output_type": "stream",
     "text": [
      "['M' 'M' 'M' 'M' 'M' 'M' 'M' 'M' 'L' 'L' 'L' 'L' 'L' 'L' 'L' 'L' 'L' 'L']\n",
      "Predicted Result:  ['M']\n",
      "              precision    recall  f1-score   support\n",
      "\n",
      "           L       1.00      0.91      0.95        11\n",
      "           M       0.88      1.00      0.93         7\n",
      "\n",
      "    accuracy                           0.94        18\n",
      "   macro avg       0.94      0.95      0.94        18\n",
      "weighted avg       0.95      0.94      0.94        18\n",
      "\n"
     ]
    }
   ],
   "source": [
    "#create a classifier\n",
    "knn = KNeighborsClassifier(n_neighbors = 7)\n",
    "knn.fit(X, Y)\n",
    "Y_pred=knn.predict(X)\n",
    "confusion_matrix = pd.crosstab(Y, Y_pred, rownames=['Actual'], \n",
    "colnames=['Predicted'])\n",
    "sn.heatmap(confusion_matrix, annot=True)\n",
    "print('Accuracy: ',metrics.accuracy_score(Y, Y_pred))\n",
    "plt.show()\n",
    "#print (X)\n",
    "print (Y_pred)\n",
    "prediction = knn.predict([[161,61]]) \n",
    "print ('Predicted Result: ', prediction)\n",
    "print(classification_report(Y, Y_pred))"
   ]
  },
  {
   "cell_type": "code",
   "execution_count": null,
   "id": "8b96a20e",
   "metadata": {},
   "outputs": [],
   "source": []
  }
 ],
 "metadata": {
  "kernelspec": {
   "display_name": "Python 3",
   "language": "python",
   "name": "python3"
  },
  "language_info": {
   "codemirror_mode": {
    "name": "ipython",
    "version": 3
   },
   "file_extension": ".py",
   "mimetype": "text/x-python",
   "name": "python",
   "nbconvert_exporter": "python",
   "pygments_lexer": "ipython3",
   "version": "3.8.8"
  }
 },
 "nbformat": 4,
 "nbformat_minor": 5
}
